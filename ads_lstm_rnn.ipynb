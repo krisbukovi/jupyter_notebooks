{
 "cells": [
  {
   "cell_type": "markdown",
   "metadata": {},
   "source": [
    "# Text Summarization and Keyword Extraction for the ADS Corpus\n",
    "\n",
    "Recurrent Neural Networks can be utilized to gather more concise semantic data from our research papers"
   ]
  },
  {
   "cell_type": "code",
   "execution_count": 2,
   "metadata": {},
   "outputs": [],
   "source": [
    "import tensorflow as tf\n",
    "from gensim.summarization import keywords, summarize"
   ]
  },
  {
   "cell_type": "markdown",
   "metadata": {},
   "source": [
    "## Recurrent Neural Networks in Tensorflow\n",
    "\n",
    "### DUST IN THE CIRCUMGALACTIC MEDIUM OF LOW-REDSHIFT GALAXIES\n",
    "#### by J.E.G. Peek Brice Menard, Lia Corrales\n",
    "\n",
    "Using spectroscopically selected galaxies from the Sloan Digital Sky Survey we present a detection of reddening effects from the circumgalactic medium of galaxies which we attribute to an extended distribution of dust. We detect the mean change in the colors of “standard crayons” correlated with the presence of foreground galaxies at z̃ 0.05 as a function of angular separation. Following Peek & Graves, we create standard crayons using passively evolving galaxies corrected for Milky Way reddening and color-redshift trends, leading to a sample with as little as 2% scatter in color. We devise methods to ameliorate possible systematic effects related to the estimation of colors, and we find an excess reddening induced by foreground galaxies at a level ranging from 10 to 0.5 mmag on scales ranging from 30 kpc to 1 Mpc. We attribute this effect to a large-scale distribution of dust around galaxies similar to the findings of Ménard et al. We find that circumgalactic reddening is a weak function of stellar mass over the range 6× {10}9 {M}☉ -6× {10}10 {M}☉ and note that this behavior appears to be consistent with recent results on the distribution of metals in the gas phase. We also find that circumgalactic reddening has no detectable dependence on the specific star formation rate of the host galaxy."
   ]
  },
  {
   "cell_type": "code",
   "execution_count": 16,
   "metadata": {},
   "outputs": [
    {
     "name": "stdout",
     "output_type": "stream",
     "text": [
      "keywords:\n",
      "\n",
      "galaxy\n",
      "reddening effects\n",
      "trends\n",
      "star formation\n",
      "sky\n",
      "crayons\n"
     ]
    }
   ],
   "source": [
    "if __name__ == '__main__':\n",
    "\n",
    "    f_in = open(\"dust_fulltext.txt\", \"r\")\n",
    "    \n",
    "    text = f_in.read()\n",
    "\n",
    "    print(\"keywords:\\n\\n\" + keywords(text, words=10, lemmatize=1))\n",
    "    \n",
    "    f_in.close()"
   ]
  },
  {
   "cell_type": "markdown",
   "metadata": {},
   "source": [
    "### Lucky Star: Confirming the Distance to USNO-A0600-15865535 and High-velocity Cloud Complex WD\n",
    "#### Peek, J. E. G.; Bordoloi, Rongmon; Sana, Hugues; Roman-Duval, Julia; Tumlinson, Jason; Zheng, Yong\n",
    "\n",
    "Measuring distances to high-velocity clouds (HVCs) is critical to understanding their role in Galactic accretion and feedback, and in the dynamic circumgalactic medium (Putman et al. 2012). While a number of approaches have been used over time (Putman et al. 2003; Peek et al. 2007), the gold standard remains the measurement of distances to stars which may exhibit absorption lines (Na i, Ca ii H and K, Ti ii, and many in the ultraviolet) at velocities coincident with the HVC neutral hydrogen emission (Schwarz et al. 1995). This was the method used in Peek et al. (2016, Peek16), in which we put the first upper limit on the distance to HVC complex WD.\n",
    "\n",
    "In Peek16 we reported the detection of Ca ii H & K absorption lines toward USNO-A0600-15865535 at vLSR = 100 km s−1, coincident with H i emission from HVC complex WD. We used a modification of the method developed by Sirko et al. (2004, Sirko04) and further explored by Xue et al. (2008, Xue08) to type this star as a blue horizontal branch (BHB) star. The original method used the shape of the Hγ and Hδ lines to distinguish BHB stars from main sequence stars. Our extrapolation used the Hepsilon line we measured in our ESO Very Large Telescope observations with the FLAMES/GIRAFFE spectrograph. We determined that our target was indeed a BHB star, and, using the color–magnitude relationship laid out in Sirko04 and Xue08, we were able to measure a distance to the star of 4.4 kpc. We reported 10% errors on this value as this is the accuracy typically quoted for the scatter in the BHB color–magnitude relationship.\n",
    "\n",
    "In this monograph we confirm this distance using Gaia Data Release 2 (Collaboration et al. 2018). We used the Astronomisches Rechen-Institut (ARI) Gaia services single source search,6 and found a match for USNO-A0600-15865535 to Gaia DR2 source 6175993651153724672, which is spatially coincident and has a mean G magnitude of 14.33, very similar to the observed Pan-STARRS g magnitude of 14.2. This source has a reported (uncorrected) parallax of 0.15 mas ± 0.06 mas.\n",
    "\n",
    "To determine a distance to USNO-A0600-15865535 we use the apparatus provided by (B-J18 Bailer-Jones et al. 2018). B-J18 provides a distance prior based on the distribution of observable stars in the Galaxy to be applied to Gaia parallaxes. B-J18 also helpfully provided a notebook7 hosted at mybinder.org in which the computation of the posterior probability distribution could be easily performed. After correcting the parallax for the reported offset of 0.029 mas (Lindegren et al. 2018) we find a distance of 4.424 kpc with a 68.3% confidence interval from 3.576 to 5.642 kpc (see Figure 1). This is consistent with our quoted result with 0.5% accuracy.\n",
    "\n",
    "This distance confirms the assertions in Peek16 that the Hepsilon extension of the Sirko04 method works, that USNO-A0600-15865535 is a BHB star at ~4.4 kpc, and that HVC complex WD is closer than 4.4 kpc. This also confirms the surprising fact that HVC complex WD is not in corotation with the outer disk, as had been previously assumed, but is more likely to be local ejecta, making it unique among HVCs.\n",
    "\n",
    "We note that two observations of the same quantity, one with ~10% errors and one with ~20% errors agreeing to within <0.5% is surprising. We suggest that an investigation of BHB distance errors in the era of Gaia is a worthy undertaking.\n",
    "\n",
    "This project was developed in part at the 2018 NYC Gaia Sprint, hosted by the Center for Computational Astrophysics of the Flatiron Institute in New York City. JEGP also thanks the Research Corporation for Science Advancement and the Heising-Simons Foundation for support as a Scialog fellow while developing this manuscript."
   ]
  },
  {
   "cell_type": "code",
   "execution_count": 22,
   "metadata": {},
   "outputs": [
    {
     "name": "stdout",
     "output_type": "stream",
     "text": [
      "2007), the gold standard remains the measurement of distances to stars which may exhibit absorption lines (Na i, Ca ii H and K, Ti ii, and many in the ultraviolet) at velocities coincident with the HVC neutral hydrogen emission (Schwarz et al. In Peek16 we reported the detection of Ca ii H & K absorption lines toward USNO-A0600-15865535 at vLSR = 100 km s−1, coincident with H i emission from HVC complex WD. We determined that our target was indeed a BHB star, and, using the color–magnitude relationship laid out in Sirko04 and Xue08, we were able to measure a distance to the star of 4.4 kpc. B-J18 provides a distance prior based on the distribution of observable stars in the Galaxy to be applied to Gaia parallaxes. This distance confirms the assertions in Peek16 that the Hepsilon extension of the Sirko04 method works, that USNO-A0600-15865535 is a BHB star at ~4.4 kpc, and that HVC complex WD is closer than 4.4 kpc.\n"
     ]
    }
   ],
   "source": [
    "    f_in = open(\"luckystar_fulltext.txt\", \"r\")\n",
    "    \n",
    "    text = f_in.read()\n",
    "\n",
    "    output = summarize(text)\n",
    "    \n",
    "    final_output = output.replace(\"\\n\", \" \")\n",
    "    \n",
    "    print(final_output)\n",
    "    \n",
    "    f_in.close()"
   ]
  }
 ],
 "metadata": {
  "coursera": {
   "course_slug": "nlp-sequence-models",
   "graded_item_id": "xxuVc",
   "launcher_item_id": "X20PE"
  },
  "kernelspec": {
   "display_name": "Python 3",
   "language": "python",
   "name": "python3"
  },
  "language_info": {
   "codemirror_mode": {
    "name": "ipython",
    "version": 3
   },
   "file_extension": ".py",
   "mimetype": "text/x-python",
   "name": "python",
   "nbconvert_exporter": "python",
   "pygments_lexer": "ipython3",
   "version": "3.5.2"
  }
 },
 "nbformat": 4,
 "nbformat_minor": 2
}
